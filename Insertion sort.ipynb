{
 "cells": [
  {
   "cell_type": "code",
   "execution_count": 15,
   "metadata": {},
   "outputs": [
    {
     "name": "stdout",
     "output_type": "stream",
     "text": [
      "Enter the number of terms in the array: 4\n",
      "Enter the term: 2\n",
      "Enter the term: 8\n",
      "Enter the term: 4\n",
      "Enter the term: 9\n",
      "The array given as input is  [2, 8, 4, 9]\n",
      "The array after insertion sort is  [2, 4, 8, 9]\n"
     ]
    }
   ],
   "source": [
    "def insertionsort(array):\n",
    "    \n",
    "    for i in range(1, len(array)):\n",
    "        pointer=array[i]\n",
    "        j=i-1\n",
    "        while j>=0 and pointer<array[j]:\n",
    "            array[j+1]=array[j]\n",
    "            j-=1\n",
    "        array[j+1]=pointer\n",
    "        \n",
    "num=int(input('Enter the number of terms in the array: '))\n",
    "array=[]\n",
    "\n",
    "for i in range(0, num):\n",
    "    term=int(input('Enter the term: '))\n",
    "    \n",
    "    array.append(term)\n",
    "    \n",
    "print('The array given as input is ', array)\n",
    "\n",
    "insertionsort(array)\n",
    "print('The array after insertion sort is ', array)\n",
    "   "
   ]
  },
  {
   "cell_type": "markdown",
   "metadata": {},
   "source": [
    "# "
   ]
  }
 ],
 "metadata": {
  "kernelspec": {
   "display_name": "Python 3",
   "language": "python",
   "name": "python3"
  },
  "language_info": {
   "codemirror_mode": {
    "name": "ipython",
    "version": 3
   },
   "file_extension": ".py",
   "mimetype": "text/x-python",
   "name": "python",
   "nbconvert_exporter": "python",
   "pygments_lexer": "ipython3",
   "version": "3.8.5"
  }
 },
 "nbformat": 4,
 "nbformat_minor": 4
}
